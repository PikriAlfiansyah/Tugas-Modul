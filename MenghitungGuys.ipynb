{
 "cells": [
  {
   "cell_type": "code",
   "execution_count": 1,
   "id": "47d6dac3",
   "metadata": {},
   "outputs": [
    {
     "name": "stdout",
     "output_type": "stream",
     "text": [
      "Jumlah huruf besar dalam teks: 3\n"
     ]
    }
   ],
   "source": [
    "from HitungHurufBesar import hitung_huruf_besar\n",
    "\n",
    "teks_input = \"Hallo guys, Perkenalkan nama saya Pikri\"\n",
    "jumlah_huruf = hitung_huruf_besar(teks_input)\n",
    "print(f\"Jumlah huruf besar dalam teks: {jumlah_huruf}\")"
   ]
  },
  {
   "cell_type": "code",
   "execution_count": null,
   "id": "cf7c1203",
   "metadata": {},
   "outputs": [],
   "source": []
  }
 ],
 "metadata": {
  "kernelspec": {
   "display_name": "Python 3 (ipykernel)",
   "language": "python",
   "name": "python3"
  },
  "language_info": {
   "codemirror_mode": {
    "name": "ipython",
    "version": 3
   },
   "file_extension": ".py",
   "mimetype": "text/x-python",
   "name": "python",
   "nbconvert_exporter": "python",
   "pygments_lexer": "ipython3",
   "version": "3.11.5"
  }
 },
 "nbformat": 4,
 "nbformat_minor": 5
}
